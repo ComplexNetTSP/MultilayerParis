{
 "cells": [
  {
   "cell_type": "code",
   "execution_count": 2,
   "metadata": {
    "collapsed": true
   },
   "outputs": [],
   "source": [
    "import json \n",
    "import csv\n",
    "import networkx as nx\n",
    "import os, sys"
   ]
  },
  {
   "cell_type": "code",
   "execution_count": 3,
   "metadata": {
    "collapsed": true
   },
   "outputs": [],
   "source": [
    "nodefile = \"vertex/vertex.csv\"\n",
    "edgefile = \"edge/edge.csv\"\n",
    "jsonfile = \"json/multigraph.json\"\n",
    "graphmlfile = \"graphml/multigraph.graphml\"\n",
    "gmlfile = \"gml/multigraph.gml\"\n",
    "\n",
    "if not os.path.exists(\"edge\"):\n",
    "    os.makedirs(\"edge\")\n",
    "if not os.path.exists(\"vertex\"):\n",
    "    os.makedirs(\"vertex\")\n",
    "if not os.path.exists(\"gml\"):\n",
    "    os.makedirs(\"gml\")"
   ]
  },
  {
   "cell_type": "code",
   "execution_count": 13,
   "metadata": {
    "collapsed": false
   },
   "outputs": [],
   "source": [
    "with open(jsonfile, 'r') as jsfile:\n",
    "    with open(nodefile, 'w+') as nodefiled:\n",
    "        with open(edgefile, 'w+') as edgefiled:\n",
    "            node = csv.writer(nodefiled)\n",
    "            edge = csv.writer(edgefiled)\n",
    "            # Header\n",
    "            node.writerow([\"# NodeID\", \"Lat\", \" Lon\", \"Layer\"])\n",
    "            edge.writerow([\"# EdgeID\", \"Source NodeID\", \"Target NodeID\", \"Direction\", \"Layer\"])\n",
    "            for line in jsfile:\n",
    "                jsentry = json.loads(line)\n",
    "                if jsentry['properties']['type'] == \"node\":\n",
    "                    node.writerow([\n",
    "                            jsentry['_id']['$oid'], \n",
    "                            jsentry['geometry']['coordinates'][0], \n",
    "                            jsentry['geometry']['coordinates'][1], \n",
    "                            jsentry['properties']['layer']])\n",
    "                if jsentry['properties']['type'] == \"edge\":\n",
    "                    if jsentry['properties']['name'].startswith(\"54\"):\n",
    "                        jsentry['properties']['name'] = \"None\"\n",
    "                    if 'direction' in jsentry['properties']:\n",
    "                        if jsentry['properties']['direction'] == \"Double sens\":\n",
    "                            direction = \"TwoWay\"\n",
    "                        elif (jsentry['properties']['direction'] == \"Sens inverse\" \n",
    "                              or jsentry['properties']['direction'] == \"Sens unique\"):\n",
    "                            direction = \"OneWay\"\n",
    "                            \n",
    "                        edge.writerow([\n",
    "                            jsentry['properties']['mongo_org_id'],\n",
    "                            jsentry['properties']['mongo_dest_id'],\n",
    "                            jsentry['_id']['$oid'], \n",
    "                            direction,\n",
    "                            jsentry['properties']['layer'], \n",
    "                            jsentry['properties']['name']])\n",
    "                    else:\n",
    "                        edge.writerow([\n",
    "                            jsentry['properties']['mongo_org_id'],\n",
    "                            jsentry['properties']['mongo_dest_id'],\n",
    "                            jsentry['_id']['$oid'],\n",
    "                            \"TwoWay\",\n",
    "                            jsentry['properties']['layer'], \n",
    "                            jsentry['properties']['name']])"
   ]
  },
  {
   "cell_type": "code",
   "execution_count": 12,
   "metadata": {
    "collapsed": false
   },
   "outputs": [],
   "source": [
    "G = nx.DiGraph()\n",
    "\n",
    "with open(nodefile, 'r') as node:\n",
    "    reader = csv.reader(node)\n",
    "    next(reader)\n",
    "    for row in reader:\n",
    "        lat = row[1]\n",
    "        lon = row[2]\n",
    "        ntype = row[3]\n",
    "        G.add_node(row[0], lat=lat, lon=lon, type=ntype)\n",
    "\n",
    "with open(edgefile, 'r') as node:\n",
    "    reader = csv.reader(node)\n",
    "    next(reader)\n",
    "    for row in reader:\n",
    "        G.add_edge(row[1], row[2], type=row[4], name=row[5])\n",
    "        if row[3] == 'TwoWay':\n",
    "            G.add_edge(row[2], row[1], type=row[4], name=row[5])\n",
    "        \n",
    "nx.write_graphml(G, graphmlfile)\n",
    "nx.write_graphml(G, gmlfile)"
   ]
  },
  {
   "cell_type": "code",
   "execution_count": 14,
   "metadata": {
    "collapsed": false
   },
   "outputs": [
    {
     "name": "stdout",
     "output_type": "stream",
     "text": [
      "42678\n",
      "51931\n"
     ]
    }
   ],
   "source": [
    "print(G.number_of_nodes())\n",
    "print(G.number_of_edges())"
   ]
  },
  {
   "cell_type": "code",
   "execution_count": null,
   "metadata": {
    "collapsed": true
   },
   "outputs": [],
   "source": []
  }
 ],
 "metadata": {
  "kernelspec": {
   "display_name": "Python 3",
   "language": "python",
   "name": "python3"
  },
  "language_info": {
   "codemirror_mode": {
    "name": "ipython",
    "version": 3
   },
   "file_extension": ".py",
   "mimetype": "text/x-python",
   "name": "python",
   "nbconvert_exporter": "python",
   "pygments_lexer": "ipython3",
   "version": "3.4.4"
  }
 },
 "nbformat": 4,
 "nbformat_minor": 0
}
